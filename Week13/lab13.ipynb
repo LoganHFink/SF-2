{
 "cells": [
  {
   "cell_type": "code",
   "execution_count": 7,
   "id": "f4f00302",
   "metadata": {},
   "outputs": [
    {
     "name": "stdout",
     "output_type": "stream",
     "text": [
      "2\n",
      "4\n",
      "6\n",
      "8\n",
      "10\n"
     ]
    }
   ],
   "source": [
    "'''\n",
    "Implement a custom iterator class to generate \n",
    "even numbers in the interval [start, end]\n",
    "'''\n",
    "\n",
    "class EvenIterator:\n",
    "    def __init__(self,start=0,end=100):\n",
    "        self._current = start + start % 2\n",
    "        self._end = end - end % 2\n",
    "\n",
    "    def __iter__(self):\n",
    "        return self\n",
    "\n",
    "    def _advance(self):\n",
    "        self._current += 2\n",
    "    \n",
    "    def __next__(self):\n",
    "        if self._current > self._end:\n",
    "            raise StopIteration\n",
    "        else:\n",
    "            result = self._current\n",
    "            self._advance() \n",
    "            return result\n",
    "\n",
    "i = EvenIterator(1,10)\n",
    "for a in i:\n",
    "    print(a)"
   ]
  },
  {
   "cell_type": "code",
   "execution_count": 16,
   "id": "7460486e",
   "metadata": {},
   "outputs": [
    {
     "name": "stdout",
     "output_type": "stream",
     "text": [
      "0\n",
      "1\n",
      "1\n",
      "2\n",
      "3\n",
      "5\n"
     ]
    }
   ],
   "source": [
    "'''\n",
    "Implement a custom iterable class for the Fibonacci\n",
    "numbers.  This class constructor should take n, \n",
    "representing the first n terms of the Fibonacci \n",
    "sequence\n",
    "'''\n",
    "\n",
    "class FibSequence:\n",
    "    def __init__(self,end):\n",
    "        self._current = 1\n",
    "        self._prev = 0\n",
    "        self._end = end\n",
    "\n",
    "    def __iter__(self):\n",
    "        return self\n",
    "\n",
    "    def _advance(self):\n",
    "        self._current,self._prev = self._current + self._prev, self._current\n",
    "    \n",
    "    def __next__(self):\n",
    "        if self._current > self._end:\n",
    "            raise StopIteration\n",
    "        else:\n",
    "            result = self._prev\n",
    "            self._advance() \n",
    "            return result\n",
    "        \n",
    "class FibIterable:\n",
    "    def __init__(self,n):\n",
    "        self._end = n\n",
    "\n",
    "    def __iter__(self):\n",
    "        return FibSequence(self._end)\n",
    "    \n",
    "f = FibIterable(10)\n",
    "\n",
    "for i in f:\n",
    "    print(i)"
   ]
  },
  {
   "cell_type": "code",
   "execution_count": null,
   "id": "1697cfe6",
   "metadata": {},
   "outputs": [],
   "source": [
    "'''\n",
    "Draw the recursion tree for the computation of \n",
    "recSum(10)\n",
    "\n",
    "recSum(10)\n",
    "|\n",
    "recSum(9) + 10 \n",
    "|\n",
    "recSum(8) + 9 \n",
    "|\n",
    "...\n",
    "|\n",
    "recSum(2) + 1\n",
    "|\n",
    "recSum(1)\n",
    "'''"
   ]
  },
  {
   "cell_type": "code",
   "execution_count": 22,
   "id": "baae7163",
   "metadata": {},
   "outputs": [
    {
     "name": "stdout",
     "output_type": "stream",
     "text": [
      "1\n"
     ]
    }
   ],
   "source": [
    "'''\n",
    "write a recursive function that determines the\n",
    "minimum element in a given list of integers. \n",
    "'''\n",
    "\n",
    "def recSmallest(lst):\n",
    "    if len(lst) == 2 and lst[0] >= lst[1]:\n",
    "        return lst[1]\n",
    "    elif len(lst) == 2 and lst[0] < lst[1]:\n",
    "        return lst[0]\n",
    "    else:\n",
    "        return recSmallest([lst[0],recSmallest(lst[1:])]) \n",
    "\n",
    "print(recSmallest([10,2,1,4,19,6,7,8,9,10])) "
   ]
  },
  {
   "cell_type": "code",
   "execution_count": null,
   "id": "33148b90",
   "metadata": {},
   "outputs": [
    {
     "name": "stdout",
     "output_type": "stream",
     "text": [
      "2.3455\n"
     ]
    }
   ],
   "source": [
    "'''\n",
    "write a recursive function that converts a string of integers\n",
    "into its integer counterpart\n",
    "'''\n",
    "\n"
   ]
  },
  {
   "cell_type": "code",
   "execution_count": 28,
   "id": "b37f7c6f",
   "metadata": {},
   "outputs": [
    {
     "data": {
      "text/plain": [
       "True"
      ]
     },
     "execution_count": 28,
     "metadata": {},
     "output_type": "execute_result"
    }
   ],
   "source": [
    "'''\n",
    "write a recursive function to determine if a given string\n",
    "is a palindrome\n",
    "'''\n",
    "\n",
    "def recPalindrome(word):\n",
    "    if len(word) == 1:\n",
    "        return True\n",
    "    elif len(word) == 2:\n",
    "        return word[0] == word[1]\n",
    "    else:\n",
    "        return word[0] == word[-1] and recPalindrome(word[1:-1])\n",
    "    \n",
    "recPalindrome('racecar')"
   ]
  },
  {
   "cell_type": "code",
   "execution_count": 31,
   "id": "ee801b48",
   "metadata": {},
   "outputs": [
    {
     "data": {
      "text/plain": [
       "5"
      ]
     },
     "execution_count": 31,
     "metadata": {},
     "output_type": "execute_result"
    }
   ],
   "source": [
    "'''\n",
    "Write a recursive function to count number of vowels in a string\n",
    "'''\n",
    "\n",
    "def countVowels(word):\n",
    "    if len(word) == 1:\n",
    "        return int(word in {'a','e','i','o','u'})\n",
    "    else:\n",
    "        return countVowels(word[1:]) + int(word[0] in {'a','e','i','o','u'})\n",
    "    \n",
    "countVowels('abcdefgiii')"
   ]
  },
  {
   "cell_type": "code",
   "execution_count": 37,
   "id": "23f9ce7a",
   "metadata": {},
   "outputs": [
    {
     "data": {
      "text/plain": [
       "-6"
      ]
     },
     "execution_count": 37,
     "metadata": {},
     "output_type": "execute_result"
    }
   ],
   "source": [
    "\n",
    "'''\n",
    "use recursion to determine if a string has more vowels than consonants. \n",
    "'''\n",
    "\n",
    "def moreVowels(word):\n",
    "    if len(word) == 1:\n",
    "        return 1 if word in {'a','e','i','o','u'} else -1\n",
    "    else:\n",
    "        return 1 if word in {'a','e','i','o','u'} else -1 + moreVowels(word[1:])\n",
    "    \n",
    "moreVowels('abelloso')"
   ]
  }
 ],
 "metadata": {
  "kernelspec": {
   "display_name": "Python 3",
   "language": "python",
   "name": "python3"
  },
  "language_info": {
   "codemirror_mode": {
    "name": "ipython",
    "version": 3
   },
   "file_extension": ".py",
   "mimetype": "text/x-python",
   "name": "python",
   "nbconvert_exporter": "python",
   "pygments_lexer": "ipython3",
   "version": "3.12.10"
  }
 },
 "nbformat": 4,
 "nbformat_minor": 5
}
