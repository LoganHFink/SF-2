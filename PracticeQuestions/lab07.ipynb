{
 "cells": [
  {
   "cell_type": "markdown",
   "metadata": {},
   "source": [
    "Question1:\n",
    "\n",
    "Given a dictionary of keys that are strings and/or integers, \n",
    "values are lists, write a snippet of code that returns the total number\n",
    "of elements of all lists that have keys as strings.  "
   ]
  },
  {
   "cell_type": "code",
   "execution_count": 5,
   "metadata": {},
   "outputs": [
    {
     "name": "stdout",
     "output_type": "stream",
     "text": [
      "8\n"
     ]
    }
   ],
   "source": [
    "d = {'a':[4,5], 2: [1,4], 'b' : [12,33,44,55,6,77]}\n",
    "\n",
    "def counter(d):\n",
    "    str_keys = []\n",
    "    count = 0\n",
    "\n",
    "    for key in d.keys():\n",
    "        if type(key) == str:\n",
    "            count += len(d[key])\n",
    "    return count\n",
    "\n",
    "print(counter(d))"
   ]
  },
  {
   "cell_type": "markdown",
   "metadata": {},
   "source": [
    "Question2:\n",
    "\n",
    "Write a function wordTally that takes an integer argument \n",
    "n and reads n words from the user.  Note that the user\n",
    "may enter the same word multiple times.  \n",
    "Your function should tally up how many times each word\n",
    "occurs that the user has entered and store it in a dictionary\n",
    "where the keys are the words and the values are the number\n",
    "of times each word occurs.  \n",
    "Return this dictionary. \n",
    "\n",
    "You may only create one collection: one dictionary"
   ]
  },
  {
   "cell_type": "code",
   "execution_count": 7,
   "metadata": {},
   "outputs": [
    {
     "data": {
      "text/plain": [
       "{'a': 2, 'b': 1, 'c': 1}"
      ]
     },
     "execution_count": 7,
     "metadata": {},
     "output_type": "execute_result"
    }
   ],
   "source": [
    "def wordTally(n):\n",
    "    words = {}\n",
    "    for _ in range(n):\n",
    "        word = input()\n",
    "        if word not in words.keys():\n",
    "            words[word] = 0\n",
    "        words[word] += 1\n",
    "    return words\n",
    "\n",
    "wordTally(4)\n",
    "    "
   ]
  },
  {
   "cell_type": "markdown",
   "metadata": {},
   "source": [
    "Quesiton3: \n",
    "\n",
    "write a function called invertDictionary that takes a \n",
    "dictionary d as an argument.  This function inverts the\n",
    "provided dictionary.  That is, the keys become the values\n",
    "(as lists) and the values become the keys. \n",
    "\n",
    "Note that d may have repetitive values, in which case in \n",
    "the inverted dictionary only one of these values\n",
    "will be used as a key. For such a key, in the inverted\n",
    "dictionary the value is a list of all such possible\n",
    "keys from d\n",
    "\n",
    "For example: \n",
    "d = {3: 5, 4: 5, 6: 1}\n",
    "d_inverted = {5: [3, 4], 1: [6]}"
   ]
  },
  {
   "cell_type": "code",
   "execution_count": 25,
   "metadata": {},
   "outputs": [
    {
     "name": "stdout",
     "output_type": "stream",
     "text": [
      "{5: [3, 4], 1: [6]}\n"
     ]
    }
   ],
   "source": [
    "def invertDictionary(d):\n",
    "    items = list(d.items())\n",
    "    inverted_items = {}\n",
    "    for item in items:\n",
    "        if item[1] in inverted_items.keys():\n",
    "            inverted_items[item[1]] = inverted_items[item[1]] + [item[0]]\n",
    "        else:\n",
    "            inverted_items[item[1]] = [item[0]]\n",
    "    return inverted_items\n",
    "\n",
    "d = {3:5,4:5,6:1}\n",
    "\n",
    "print(invertDictionary(d))"
   ]
  },
  {
   "cell_type": "markdown",
   "metadata": {},
   "source": [
    "Question 4:\n",
    "\n",
    "Given a sequence of m words and an integer k, find the\n",
    "k-th most common words.  A word w is the k-th most \n",
    "common if exactly k-1 distinct words occur more\n",
    "frequently than w. "
   ]
  },
  {
   "cell_type": "code",
   "execution_count": 67,
   "metadata": {},
   "outputs": [
    {
     "name": "stdout",
     "output_type": "stream",
     "text": [
      "!!!c!!!\n"
     ]
    }
   ],
   "source": [
    "def commonKWords():\n",
    "    m,k = input('m k: ').split()\n",
    "    k = int(k)\n",
    "    w = {}\n",
    "    for _ in range(int(m)):\n",
    "        word = input('w: ')\n",
    "        if word not in w.keys():\n",
    "            w[word] = 0\n",
    "        w[word] += 1\n",
    "    # print(w)\n",
    "    w = invertDictionary(w)\n",
    "    # print(w)\n",
    "    # looking for there to k-1 things in front\n",
    "    commonest_words = []\n",
    "    for _ in list(w):\n",
    "        most_common = max(list(w.keys()))\n",
    "        # print(most_common)\n",
    "        commonest_words += w[most_common]\n",
    "        del w[most_common]\n",
    "        # print(commonest_words,len(commonest_words))\n",
    "        if len(commonest_words) == k:\n",
    "            print(f'!!!{commonest_words[-1]}!!!')\n",
    "\n",
    "commonKWords()"
   ]
  }
 ],
 "metadata": {
  "kernelspec": {
   "display_name": "Python 3",
   "language": "python",
   "name": "python3"
  },
  "language_info": {
   "codemirror_mode": {
    "name": "ipython",
    "version": 3
   },
   "file_extension": ".py",
   "mimetype": "text/x-python",
   "name": "python",
   "nbconvert_exporter": "python",
   "pygments_lexer": "ipython3",
   "version": "3.12.9"
  }
 },
 "nbformat": 4,
 "nbformat_minor": 2
}
