{
 "cells": [
  {
   "cell_type": "markdown",
   "metadata": {},
   "source": [
    "Debug/error:\n",
    "SA find errors (w # of errors given)"
   ]
  },
  {
   "cell_type": "code",
   "execution_count": null,
   "metadata": {},
   "outputs": [
    {
     "name": "stdout",
     "output_type": "stream",
     "text": [
      "1.0\n"
     ]
    },
    {
     "data": {
      "text/plain": [
       "\"\\nsum1 crashes since the float function won't work on a list, Runtime error\\nsum2 crashes since the list in the sum() function is full of lists, not just ints/floats, Runtime error\\nsum3 works as intended  \\nsum4 returns the first value only, not a sum so Semantic error\\n\""
      ]
     },
     "execution_count": 32,
     "metadata": {},
     "output_type": "execute_result"
    }
   ],
   "source": [
    "'''\n",
    "Find 3 errors in the code below, explain them, and label them as 'Syntax', 'Runtime' or 'Semantic' errors. The purpose of the functions\n",
    "is to add each of the elements together and output the sum.\n",
    "'''\n",
    "\n",
    "def mySum1(m):\n",
    "    output = 0\n",
    "    for x in m:\n",
    "        output += float(x)\n",
    "    return x\n",
    "\n",
    "def mySum2(m):\n",
    "    output = 0\n",
    "    length_m = len(m)\n",
    "    return sum([[int(x)] for x in range(length_m)])\n",
    "\n",
    "def mySum3(m):\n",
    "    output = 0\n",
    "    for x in m[-1::-1]:\n",
    "        if type(x) == list:\n",
    "            output += x[-1]\n",
    "        else:\n",
    "            output += float(x)\n",
    "    return output\n",
    "\n",
    "def mySum4(m):\n",
    "    output = 0\n",
    "    for x in m:\n",
    "        if type(x) == list:\n",
    "            for k in x:\n",
    "                output += k\n",
    "        else:\n",
    "            output += float(x)\n",
    "        return output\n",
    "\n",
    "m = [1,'2.5',[10],-1]\n",
    "\n",
    "mySum1(m)\n",
    "mySum2(m)\n",
    "mySum3(m)\n",
    "mySum4(m)\n"
   ]
  },
  {
   "cell_type": "code",
   "execution_count": null,
   "metadata": {},
   "outputs": [],
   "source": [
    "\n",
    "# SAMPLE ANSWER\n",
    "\n",
    "'''\n",
    "sum1 crashes since the float function won't work on a list, Runtime error\n",
    "sum2 crashes since the list in the sum() function is full of lists, not just ints/floats, Runtime error\n",
    "sum3 works as intended  \n",
    "sum4 returns the first value only, not a sum so Semantic error\n",
    "'''"
   ]
  }
 ],
 "metadata": {
  "kernelspec": {
   "display_name": "Python 3",
   "language": "python",
   "name": "python3"
  },
  "language_info": {
   "codemirror_mode": {
    "name": "ipython",
    "version": 3
   },
   "file_extension": ".py",
   "mimetype": "text/x-python",
   "name": "python",
   "nbconvert_exporter": "python",
   "pygments_lexer": "ipython3",
   "version": "3.12.9"
  }
 },
 "nbformat": 4,
 "nbformat_minor": 2
}
