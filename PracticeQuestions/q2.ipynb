{
 "cells": [
  {
   "cell_type": "markdown",
   "metadata": {},
   "source": [
    "Nested Loops:\n",
    "SA difficult + complexity"
   ]
  },
  {
   "cell_type": "code",
   "execution_count": null,
   "metadata": {},
   "outputs": [
    {
     "data": {
      "text/plain": [
       "5"
      ]
     },
     "execution_count": 16,
     "metadata": {},
     "output_type": "execute_result"
    }
   ],
   "source": [
    "'''\n",
    "Write a function called 'adjacents' that takes in the parameter 'matrix' (a n by n 2d list of ints). All values in the matrix\n",
    "have one digit except for 1, this value has 2 digits. The function: 'adjacents(matrix)' should return the number of adjacent\n",
    "tiles to the 2 digit number (horizontal, vertical and diagonal).\n",
    "\n",
    "The function must have a runtime of O(n^2) or less.\n",
    "\n",
    "Sample inputs:\n",
    "\n",
    "matrix = [[0,0 ,0],  ---> adjacents(matrix) should return 8\n",
    "          [1,10,0],\n",
    "          [0,0 ,1]]\n",
    "          \n",
    "matrix = [[1,2,0 ],  ---> adjacents(matrix) should return 3\n",
    "          [0,0,0 ],\n",
    "          [0,0,12]]\n",
    "'''"
   ]
  },
  {
   "cell_type": "code",
   "execution_count": 1,
   "metadata": {},
   "outputs": [
    {
     "data": {
      "text/plain": [
       "5"
      ]
     },
     "execution_count": 1,
     "metadata": {},
     "output_type": "execute_result"
    }
   ],
   "source": [
    "# SAMPLE ANSWER:\n",
    "\n",
    "matrix = [[0,10,0],[1,0,0],[0,0,2]]\n",
    "\n",
    "def adjacents(matrix):\n",
    "    n = len(matrix)\n",
    "    adjacent_tiles = 8\n",
    "    for yi in range(n):\n",
    "        for xi in range(n):\n",
    "            if len(str(matrix[yi][xi])) == 2:\n",
    "                x,y = xi,yi\n",
    "    if x == 0 or x == n-1:\n",
    "        adjacent_tiles -= 3\n",
    "    if y == 0 or y == n-1:\n",
    "        adjacent_tiles -= 3\n",
    "    if adjacent_tiles == 2:\n",
    "        adjacent_tiles += 1\n",
    "    return adjacent_tiles\n",
    "\n",
    "adjacents(matrix)"
   ]
  }
 ],
 "metadata": {
  "kernelspec": {
   "display_name": "Python 3",
   "language": "python",
   "name": "python3"
  },
  "language_info": {
   "codemirror_mode": {
    "name": "ipython",
    "version": 3
   },
   "file_extension": ".py",
   "mimetype": "text/x-python",
   "name": "python",
   "nbconvert_exporter": "python",
   "pygments_lexer": "ipython3",
   "version": "3.12.9"
  }
 },
 "nbformat": 4,
 "nbformat_minor": 2
}
