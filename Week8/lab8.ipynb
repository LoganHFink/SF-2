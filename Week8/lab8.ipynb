{
 "cells": [
  {
   "cell_type": "markdown",
   "metadata": {},
   "source": [
    "create a file birthdays.py that will do the following:\n",
    "\n",
    "(a) write a function that reads birthdays of people\n",
    "    from the user and stores them in a dictionary\n",
    "    of dictionaries.  Once the user enters 'stop', you \n",
    "    will read no more input from the user.  You may\n",
    "    assume the user will give valid input.\n",
    "\n",
    "    Sample Input:\n",
    "    month day name: February 23 Bob\n",
    "    month day name: May 3 Katie\n",
    "    month day name: May 8 Paul\n",
    "    month day name: May 8 Lucy\n",
    "    month day name: stop\n",
    "\n",
    "    Sample Ouput (i.e. returned by function)\n",
    "    { 'February': {'23': ['Bob']},\n",
    "    'May': {'3': ['Katie'], '8': ['Paul', 'Lucy']} }\n",
    "\n",
    "\n",
    "(b) Write a function called mostCovered that will take \n",
    "the dictionary entered by the user in part (a) and\n",
    "return the month that has the most number of \n",
    "birthdays\n",
    "\n",
    "\n",
    "(c) write a function called invert() that will take\n",
    "the birthday month dictionary entered by the user in\n",
    "part(a) and return the equivalent brithday dictionary\n",
    "\n",
    "Sample Input is the dictionary returned in part (a)\n",
    "\n",
    "Sample Output:\n",
    "\n",
    "{'Bob': ('February', '23'), \n",
    "\n",
    "'Katie': ('May', '3'),\n",
    "\n",
    "'Paul': ('May', '8'), \n",
    "\n",
    "'Lucy': ('May', '8')}"
   ]
  },
  {
   "cell_type": "code",
   "execution_count": null,
   "metadata": {},
   "outputs": [
    {
     "data": {
      "text/plain": [
       "{'F': {'23': ['Bob']}, 'M': {'3': ['Katie'], '8': ['Paul', 'Lucy']}}"
      ]
     },
     "execution_count": 13,
     "metadata": {},
     "output_type": "execute_result"
    }
   ],
   "source": [
    "def getBirthdays():\n",
    "    d = {}\n",
    "    keep_going = True\n",
    "    while keep_going:\n",
    "        text = input('month day name:')\n",
    "        if text.lower() == 'stop':\n",
    "            keep_going = False\n",
    "        else:\n",
    "            month,day,name = text.split(' ')\n",
    "            if month not in d.keys():\n",
    "                d.update({month : {}})\n",
    "            if day not in d[month].keys():\n",
    "                d[month].update({day : []})    \n",
    "            d[month][day].append(name)\n",
    "    return d\n",
    "\n",
    "getBirthdays()"
   ]
  },
  {
   "cell_type": "code",
   "execution_count": null,
   "metadata": {},
   "outputs": [
    {
     "name": "stdout",
     "output_type": "stream",
     "text": [
      "F {'23': ['Bob']}\n",
      "23 ['Bob']\n",
      "count for F:1\n",
      "M {'3': ['KAtie'], '8': ['Paul', 'Lucy']}\n",
      "3 ['KAtie']\n",
      "8 ['Paul', 'Lucy']\n",
      "count for M:3\n"
     ]
    },
    {
     "data": {
      "text/plain": [
       "'M'"
      ]
     },
     "execution_count": 25,
     "metadata": {},
     "output_type": "execute_result"
    }
   ],
   "source": [
    "def mostCovered():\n",
    "    d = getBirthdays()\n",
    "    biggest = 0\n",
    "    output = 'Na'\n",
    "    for month,days in d.items():\n",
    "        count = 0\n",
    "        for day,people in days.items():\n",
    "            count += len(people)\n",
    "        if count >= biggest:\n",
    "            output = month\n",
    "    return output\n",
    "        \n",
    "mostCovered()"
   ]
  },
  {
   "cell_type": "code",
   "execution_count": 26,
   "metadata": {},
   "outputs": [
    {
     "data": {
      "text/plain": [
       "{'Bob': ('F', '23'),\n",
       " 'Katie': ('M', '3'),\n",
       " 'Lucy': ('M', '8'),\n",
       " 'Paul': ('M', '8')}"
      ]
     },
     "execution_count": 26,
     "metadata": {},
     "output_type": "execute_result"
    }
   ],
   "source": [
    "def invert():\n",
    "    d = getBirthdays()\n",
    "    inverted_d = {}\n",
    "    for month,days in d.items():\n",
    "        for day,names in days.items():\n",
    "            for name in names:\n",
    "                inverted_d[name] = (month,day)\n",
    "    return inverted_d\n",
    "\n",
    "invert()"
   ]
  },
  {
   "cell_type": "markdown",
   "metadata": {},
   "source": [
    "Bard:\n",
    "\n",
    "Every evening villagers in a small village gather around a big fire and sing songs.\n",
    "\n",
    "A prominent member of the community is the bard. Every evening if the bard is present, he sings a brand new song that no villager has heard before, and no other song is sung that night. In the event that the bard isnt present, other villagers sing without him and exchange all songs that they know. (NOTE: villagers can only learn new songs from the bard)\n",
    "\n",
    "Given the list of villagers present for E consecutive evenings, output all villagers that know all songs sung during that period.\n",
    "\n",
    "INPUT:\n",
    "\n",
    "    first line is an integer N, number of villagers\n",
    "\n",
    "    2nd line is an integer E, number of evenings\n",
    "    \n",
    "    next E lines contain the list of villagers present on each of the E evenings. Each line begins with a positive integer K, the number of villagers present during that evening followed by K integers seperated by spaces representing the villagers.\n",
    "\n",
    "    No villager will appear twice in one night and the bard will appear at least once across all nights. Villager number 1 is the bard\n",
    "\n",
    "OUTPUT: \n",
    "\n",
    "    all villagers that know all songs, including the vard, one integer per line in ascending order"
   ]
  },
  {
   "cell_type": "code",
   "execution_count": 32,
   "metadata": {},
   "outputs": [
    {
     "name": "stdout",
     "output_type": "stream",
     "text": [
      "{'1': set(), '2': set(), '3': set(), '4': set(), '5': set()}\n",
      "['1', '2', '3', '5']\n",
      "{'1': {0}, '2': {0}, '3': {0}, '4': set(), '5': {0}}\n",
      "['3', '4', '5']\n",
      "{'1': {0}, '2': {0}, '3': {0}, '4': {0}, '5': {0}}\n",
      "['1', '4']\n",
      "{'1': {0, 2}, '2': {0}, '3': {0}, '4': {0, 2}, '5': {0}}\n"
     ]
    },
    {
     "data": {
      "text/plain": [
       "['1', '4']"
      ]
     },
     "execution_count": 32,
     "metadata": {},
     "output_type": "execute_result"
    }
   ],
   "source": [
    "def bard():\n",
    "    N = int(input('N: '))\n",
    "    songs_known = {str(x+1) : set() for x in range(N)}\n",
    "    print(songs_known)\n",
    "    E = int(input('E: '))\n",
    "    for evening in range(E):\n",
    "        line = input('K, villagers:')\n",
    "        K = int(line[0])\n",
    "        villagers = line[2:].split(' ')\n",
    "        print(villagers)\n",
    "        if '1' in villagers:\n",
    "            for villager in villagers:\n",
    "                songs_known[villager].add(evening)\n",
    "        else:\n",
    "            all_known_songs = set()\n",
    "            for villager in villagers:\n",
    "                all_known_songs = all_known_songs.union(songs_known[villager])\n",
    "            for villager in villagers:\n",
    "                songs_known[villager] = all_known_songs.copy()\n",
    "        print(songs_known)\n",
    "    output = []\n",
    "    for villager in songs_known.keys():\n",
    "        if songs_known[villager] == songs_known['1']:\n",
    "            output.append(villager)\n",
    "    return output\n",
    "        \n",
    "\n",
    "bard()\n",
    "\n",
    "# sample input:\n",
    "# 5\n",
    "# 3\n",
    "# 4 1 2 3 5\n",
    "# 2 3 4 5\n",
    "# 3 1 4\n",
    "\n",
    "# output:\n",
    "# 1 and 4"
   ]
  }
 ],
 "metadata": {
  "kernelspec": {
   "display_name": "Python 3",
   "language": "python",
   "name": "python3"
  },
  "language_info": {
   "codemirror_mode": {
    "name": "ipython",
    "version": 3
   },
   "file_extension": ".py",
   "mimetype": "text/x-python",
   "name": "python",
   "nbconvert_exporter": "python",
   "pygments_lexer": "ipython3",
   "version": "3.12.9"
  }
 },
 "nbformat": 4,
 "nbformat_minor": 2
}
