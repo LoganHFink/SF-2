{
 "cells": [
  {
   "cell_type": "code",
   "execution_count": 7,
   "metadata": {},
   "outputs": [
    {
     "name": "stdout",
     "output_type": "stream",
     "text": [
      "{4: 19}\n"
     ]
    }
   ],
   "source": [
    "def combine(d1,d2):\n",
    "    '''\n",
    "    return dictionary where each key is a key in both d1 and d2\n",
    "    the value associated with each key in the dictionary is the sum of all the integers associated with that key in d1 and d2\n",
    "    '''\n",
    "    new_d = {}\n",
    "    for key1 in d1:\n",
    "        if key1 in d2:\n",
    "            lst1 = d1[key1]\n",
    "            lst2 = d2[key1]\n",
    "            s = sum(lst1) + sum(lst2)\n",
    "            new_d[key1] = s\n",
    "    return new_d\n",
    "\n",
    "d1 ={1:[2],4:[5,6]}\n",
    "d2 = {4:[8]}\n",
    "\n",
    "print(combine(d1,d2))\n"
   ]
  }
 ],
 "metadata": {
  "kernelspec": {
   "display_name": "Python 3",
   "language": "python",
   "name": "python3"
  },
  "language_info": {
   "codemirror_mode": {
    "name": "ipython",
    "version": 3
   },
   "file_extension": ".py",
   "mimetype": "text/x-python",
   "name": "python",
   "nbconvert_exporter": "python",
   "pygments_lexer": "ipython3",
   "version": "3.12.9"
  }
 },
 "nbformat": 4,
 "nbformat_minor": 2
}
