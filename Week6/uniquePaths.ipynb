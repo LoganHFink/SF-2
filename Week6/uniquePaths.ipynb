{
 "cells": [
  {
   "cell_type": "code",
   "execution_count": 109,
   "metadata": {},
   "outputs": [
    {
     "name": "stdout",
     "output_type": "stream",
     "text": [
      "[0, 0, 'x']\n",
      "[0, 0, 0]\n",
      "['x', 0, 0]\n"
     ]
    }
   ],
   "source": [
    "matrix = [[0,0,'x'],[0,0,0],['x',0,0]]\n",
    "\n",
    "def displayMatrix(matrix):\n",
    "    for row in matrix:\n",
    "        print(row)\n",
    "\n",
    "displayMatrix(matrix)"
   ]
  },
  {
   "cell_type": "code",
   "execution_count": null,
   "metadata": {},
   "outputs": [
    {
     "name": "stdout",
     "output_type": "stream",
     "text": [
      "[1, 1, 'x']\n",
      "[1, 2, 2]\n",
      "['x', 2, 4]\n",
      "There are 4 paths\n"
     ]
    }
   ],
   "source": [
    "def uniquePaths(matrix):\n",
    "    # add the current box's number to bottom and right boxes, goes around 'x' obstacles\n",
    "    matrix[0][0] = 1\n",
    "    for y in range(len(matrix)):\n",
    "        for x in range(len(matrix[y])):\n",
    "            if matrix[y][x] != 'x':\n",
    "                if x < len(matrix[y])-1 and matrix[y][x+1] != 'x':\n",
    "                    matrix[y][x+1] += matrix[y][x]\n",
    "                if y < len(matrix)-1 and matrix[y+1][x] != 'x':\n",
    "                    matrix[y+1][x] += matrix[y][x]\n",
    "    displayMatrix(matrix)\n",
    "    print(f'There are {matrix[-1][-1]} paths')\n",
    "\n",
    "uniquePaths(matrix)"
   ]
  }
 ],
 "metadata": {
  "kernelspec": {
   "display_name": "Python 3",
   "language": "python",
   "name": "python3"
  },
  "language_info": {
   "codemirror_mode": {
    "name": "ipython",
    "version": 3
   },
   "file_extension": ".py",
   "mimetype": "text/x-python",
   "name": "python",
   "nbconvert_exporter": "python",
   "pygments_lexer": "ipython3",
   "version": "3.12.9"
  }
 },
 "nbformat": 4,
 "nbformat_minor": 2
}
