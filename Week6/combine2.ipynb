{
 "cells": [
  {
   "cell_type": "code",
   "execution_count": null,
   "metadata": {},
   "outputs": [
    {
     "name": "stdout",
     "output_type": "stream",
     "text": [
      "{3: [2], 4: [5, 6]} {3: [8, 12]}\n",
      "{3: 22}\n"
     ]
    }
   ],
   "source": [
    "# d1 = {'a':{3:[2], 4: [5,6]},'b':{7:[2,7,9],4:[5,6]}}\n",
    "# d2 = {'a': {3:[8,12]},'b': {7:[7,33]}}\n",
    "\n",
    "d1 = {'a': {3: [2], 4: [5,6]}}\n",
    "d2 = {'a' : {3: [8,12]}}\n",
    "\n",
    "\n",
    "def combine2(d1,d2):\n",
    "    '''\n",
    "    return dictionary where each key is a key that is a key in the values of d1 and d2.\n",
    "    The value associated with each key in the new dictionary is the sum of all the ints associated with that key in d1 and d2\n",
    "\n",
    "    >>> combine2({'a': {3: [2], 4: [5,6]}}, {'a' : {3: [8,12]}})\n",
    "    {3:22}\n",
    "    '''\n",
    "    new_d = {}\n",
    "    inner_d1 = {}\n",
    "    inner_d2 = {}\n",
    "    shared_keys = []\n",
    "    for key in d1.keys():\n",
    "        if key in d2.keys():\n",
    "            shared_keys.append(key)\n",
    "    for shared_key in shared_keys: # in one layer\n",
    "        inner_d1.update(d1[shared_key].items())\n",
    "        inner_d2.update(d2[shared_key].items())\n",
    "    # print(inner_d1,inner_d2)\n",
    "    shared_inner_keys = []\n",
    "    for inner_key in inner_d1:\n",
    "        if inner_key in inner_d2:\n",
    "            shared_inner_keys.append(inner_key)\n",
    "    for shared_inner_key in shared_inner_keys:\n",
    "        new_d[shared_inner_key] = sum(inner_d1[shared_inner_key]+inner_d2[shared_inner_key])\n",
    "    print(new_d)\n",
    "\n",
    "combine2(d1,d2)\n",
    "    "
   ]
  }
 ],
 "metadata": {
  "kernelspec": {
   "display_name": "Python 3",
   "language": "python",
   "name": "python3"
  },
  "language_info": {
   "codemirror_mode": {
    "name": "ipython",
    "version": 3
   },
   "file_extension": ".py",
   "mimetype": "text/x-python",
   "name": "python",
   "nbconvert_exporter": "python",
   "pygments_lexer": "ipython3",
   "version": "3.12.9"
  }
 },
 "nbformat": 4,
 "nbformat_minor": 2
}
