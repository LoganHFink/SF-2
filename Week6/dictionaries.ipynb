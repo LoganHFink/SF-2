{
 "cells": [
  {
   "cell_type": "markdown",
   "metadata": {},
   "source": [
    "Catalog butterflies using parallel lists:"
   ]
  },
  {
   "cell_type": "code",
   "execution_count": 7,
   "metadata": {},
   "outputs": [
    {
     "name": "stdout",
     "output_type": "stream",
     "text": [
      "Monarch: 4\n",
      "Painted Lady: 10\n",
      "Bronze Copper: 2\n",
      "Orange Sulfur: 42\n",
      "Common Blue: 1\n",
      "----------------------------------\n",
      "Monarch: 4\n",
      "Painted Lady: 10\n",
      "Bronze Copper: 2\n",
      "Orange Sulfur: 42\n",
      "Common Blue: 2\n"
     ]
    }
   ],
   "source": [
    "# Approach 1: keep track of two lists with same index and length\n",
    "\n",
    "kinds = ['Monarch','Painted Lady','Bronze Copper','Orange Sulfur']\n",
    "counts = [4,10,2,42]\n",
    "\n",
    "# Function to add new butterflies:\n",
    "\n",
    "def new_sightings(kinds: list[str],counts: list[int],sighting: str):\n",
    "    '''\n",
    "    add new sighting to parallel lists kind and counts\n",
    "    '''\n",
    "    if sighting not in kinds:\n",
    "        kinds.append(sighting)\n",
    "        counts.append(1)\n",
    "    else:\n",
    "        i = kinds.index(sighting)\n",
    "        counts[i] += 1\n",
    "\n",
    "new_sightings(kinds,counts,'Common Blue')\n",
    "\n",
    "for i in range(len(kinds)):\n",
    "    print(f'{kinds[i]}: {counts[i]}')\n",
    "\n",
    "print('----------------------------------')\n",
    "\n",
    "new_sightings(kinds,counts,'Common Blue')\n",
    "\n",
    "for i in range(len(kinds)):\n",
    "    print(f'{kinds[i]}: {counts[i]}')"
   ]
  },
  {
   "cell_type": "markdown",
   "metadata": {},
   "source": [
    "# Dictionaries\n",
    "\n",
    "Key-value pairs defined with {} brackets:"
   ]
  },
  {
   "cell_type": "code",
   "execution_count": 15,
   "metadata": {},
   "outputs": [
    {
     "name": "stdout",
     "output_type": "stream",
     "text": [
      "5\n",
      "in dictionary\n",
      "not in dictionary\n",
      "5\n",
      "{'Monarch': 5, 'Common Blue': 12, 'Starling': 5}\n"
     ]
    }
   ],
   "source": [
    "d = {'Monarch':5, 'Common Blue': 12}\n",
    "\n",
    "# The left of the colon is the key the right is the value\n",
    "# Calling the key gives the value, like an index\n",
    "\n",
    "print(d['Monarch'])\n",
    "\n",
    "# Indexing outside of a dictionary gives an index error\n",
    "# d['Starling]\n",
    "\n",
    "if 'Monarch' in d: # in works on the keys, not values \n",
    "    print('in dictionary')\n",
    "else:\n",
    "    print('not in dictionary')\n",
    "\n",
    "if 5 in d: # in works on the keys, not values \n",
    "    print('in dictionary')\n",
    "else:\n",
    "    print('not in dictionary')\n",
    "\n",
    "# Keys are immutable CANNOT BE LISTS, values are mutable, CAN BE LISTS\n",
    "\n",
    "# dict.get(key) gives the value of a key\n",
    "# get(key,default=None) if you specify default, it will return that value if the key wasnt found\n",
    "\n",
    "a = d.get('Monarch')\n",
    "print(a)\n",
    "\n",
    "# Since key isnt in the dictionary yet, it gets created with value assigned\n",
    "# Dictionaries cant have duplicate keys\n",
    "d['Starling'] = 5\n",
    "print(d)"
   ]
  },
  {
   "cell_type": "code",
   "execution_count": 17,
   "metadata": {},
   "outputs": [],
   "source": [
    "d = {'apples':3, 'oranges':12,'pears':7,'bananas':5}\n",
    "\n",
    "# dict.keys gives the keys, but not in a useful way\n",
    "\n",
    "d.keys()\n",
    "\n",
    "# turn it to list like this:\n",
    "\n",
    "list(d.keys())\n",
    "\n",
    "# gives the values in a list:\n",
    "\n",
    "list(d.values())\n",
    "\n",
    "# gives tuples of (key,value)\n",
    "\n",
    "list(d.items())\n",
    "\n",
    "# deletes the item specified\n",
    "\n",
    "del d['oranges']\n",
    "\n",
    "# also removes the item, but if you do some v = dict.pop(), v gets the value of the item\n",
    "\n",
    "d.pop('bananas')\n",
    "\n",
    "# dict.update({key:value}) adds or updates a value\n",
    "\n",
    "d.update({'oranges':15})\n",
    "\n",
    "d.update({'apples':0})\n",
    "\n",
    "# dicts are collections, do the things list do with pointers "
   ]
  },
  {
   "cell_type": "code",
   "execution_count": 23,
   "metadata": {},
   "outputs": [
    {
     "name": "stdout",
     "output_type": "stream",
     "text": [
      "{'apples': 0, 'pears': 7, 'oranges': 15}\n",
      "apples: 0\n",
      "pears: 7\n",
      "oranges: 15\n",
      "0\n",
      "7\n",
      "15\n",
      "apples 0\n",
      "pears 7\n",
      "oranges 15\n"
     ]
    }
   ],
   "source": [
    "print(d)\n",
    "\n",
    "# iterates through keys by default\n",
    "\n",
    "for key in d:\n",
    "    print(f'{key}: {d[key]}')\n",
    "\n",
    "# can do this to get values directly:\n",
    "for value in d.values():\n",
    "    print(value)\n",
    "\n",
    "# or as pairs of tuples:\n",
    "\n",
    "for item in d.items():\n",
    "    key,value = item\n",
    "    print(key,value)"
   ]
  },
  {
   "cell_type": "markdown",
   "metadata": {},
   "source": [
    "# back to butterflies\n"
   ]
  },
  {
   "cell_type": "code",
   "execution_count": 30,
   "metadata": {},
   "outputs": [
    {
     "name": "stdout",
     "output_type": "stream",
     "text": [
      "Monarch:5\n",
      "Painted Lady:2\n",
      "Bronze Copper:1\n",
      "Orange Sulfur:12\n",
      "---------------------------------\n",
      "Monarch:5\n",
      "Painted Lady:2\n",
      "Bronze Copper:1\n",
      "Orange Sulfur:12\n",
      "Starling:1\n",
      "---------------------------------\n",
      "Monarch:5\n",
      "Painted Lady:2\n",
      "Bronze Copper:1\n",
      "Orange Sulfur:12\n",
      "Starling:2\n"
     ]
    }
   ],
   "source": [
    "butterflies = {'Monarch':5,'Painted Lady':2,'Bronze Copper':1,'Orange Sulfur':12}\n",
    "\n",
    "for kind,count in butterflies.items():\n",
    "    print(f'{kind}:{count}')\n",
    "\n",
    "print('---------------------------------')\n",
    "\n",
    "'''\n",
    "def new_sighting(butterflies,sighting):\n",
    "    if sighting not in butterflies:\n",
    "        butterflies[sighting] = 0\n",
    "    butterflies[sighting] += 1\n",
    "'''\n",
    "    \n",
    "# or a better written function:\n",
    "\n",
    "def new_sighting(butterflies,sighting):\n",
    "    butterflies[sighting] = butterflies.get(sighting,0) + 1\n",
    "\n",
    "new_sighting(butterflies,'Starling')\n",
    "\n",
    "for kind,count in butterflies.items():\n",
    "    print(f'{kind}:{count}')\n",
    "\n",
    "print('---------------------------------')\n",
    "\n",
    "new_sighting(butterflies,'Starling')\n",
    "\n",
    "for kind,count in butterflies.items():\n",
    "    print(f'{kind}:{count}')\n",
    "\n"
   ]
  }
 ],
 "metadata": {
  "kernelspec": {
   "display_name": "Python 3",
   "language": "python",
   "name": "python3"
  },
  "language_info": {
   "codemirror_mode": {
    "name": "ipython",
    "version": 3
   },
   "file_extension": ".py",
   "mimetype": "text/x-python",
   "name": "python",
   "nbconvert_exporter": "python",
   "pygments_lexer": "ipython3",
   "version": "3.12.9"
  }
 },
 "nbformat": 4,
 "nbformat_minor": 2
}
