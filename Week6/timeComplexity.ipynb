{
 "cells": [
  {
   "cell_type": "markdown",
   "metadata": {},
   "source": [
    "# Snippet:\n",
    "- Count primitive operations of code snippet:\n"
   ]
  },
  {
   "cell_type": "code",
   "execution_count": 56,
   "metadata": {},
   "outputs": [
    {
     "name": "stdout",
     "output_type": "stream",
     "text": [
      "72854\n"
     ]
    }
   ],
   "source": [
    "lst = [3,72854,23,2]\n",
    "n = len(lst)\n",
    "\n",
    "current_max = lst[0]        # 2 primitive operations\n",
    "\n",
    "for i in range(1, len(lst)):        # n + n + n times <- ((n-1) in loop, final time since range checks, so +1)\n",
    "    if lst[i] > current_max:        # 2(n-1)  <- 2 operations, (n-1) times from loop\n",
    "        current_max = lst[i]        # 2(n-1)\n",
    "print(current_max)                  # 1\n",
    "                                    # 7n - 1"
   ]
  },
  {
   "cell_type": "markdown",
   "metadata": {},
   "source": [
    "# Time Complexity:\n",
    "\n",
    "a = shortest time it takes to run the fastest prim operation\n",
    "\n",
    "b = longest time it takes to run slowest prim operation\n",
    "\n",
    "a,b are constants\n",
    "\n",
    "Let $T(n)$ be the run time of our small algorithm\n",
    "\n",
    "$a(7n-1) \\leq T(n) b (7n-1)$ so $(7n-1) \\in O(n)$\n",
    "\n",
    "Remember the important thing for $f(n) \\in O(g(n))$ is for $f(n) > g(n)$ $\\forall n$ s.t $n > \\exists k$. Basically as $n$ approaches $\\infty$ the bigger function wins.\n",
    "\n",
    "# Seven important functions:\n",
    "\n",
    "- Constant\n",
    "- Logarithm $\\log{n}$ base 2\n",
    "- Linear $n$\n",
    "- $n \\cdot \\log{n}$\n",
    "- $n^2$\n",
    "- $2^n$\n",
    "- $n!$\n",
    "\n",
    "Remember that the highest degree is all that matters, e.g: $O(n)+O(1)+O(n^2) \\in O(n^2)$"
   ]
  },
  {
   "cell_type": "markdown",
   "metadata": {},
   "source": [
    "# Space Complexity:\n",
    "\n",
    "Same idea, but count the number of times a variable needs to be stored. A list with $n$ items takes $n$ space. Any singlular variable is a constant. A list of lists could be $\\in O(n^2)$, assuming the # of lists AND the number of variables in each list is $n$. (Most of the time make this assumption, or use $m \\times k$ for rows/columns to be more specific)"
   ]
  },
  {
   "cell_type": "markdown",
   "metadata": {},
   "source": [
    "Write a binomial distribution function that computes the binomial coefficient of $n$ and $k$"
   ]
  },
  {
   "cell_type": "code",
   "execution_count": 57,
   "metadata": {},
   "outputs": [
    {
     "name": "stdout",
     "output_type": "stream",
     "text": [
      "1\n"
     ]
    }
   ],
   "source": [
    "from math import factorial\n",
    "\n",
    "def binom(n,k):\n",
    "    return factorial(n) // ((factorial(n-k)) * factorial(k)) # Time: O(n) + O(n) + O(n) -> O(n)\n",
    "\n",
    "# IF the factorials were inside each other, nested loops, THEN multiply n*n*... to get bigger degrees\n",
    "\n",
    "print(binom(2,2))"
   ]
  },
  {
   "cell_type": "code",
   "execution_count": 89,
   "metadata": {},
   "outputs": [
    {
     "name": "stdout",
     "output_type": "stream",
     "text": [
      "             [1]              \n",
      "            [1, 1]            \n",
      "          [1, 2, 1]           \n",
      "         [1, 3, 3, 1]         \n",
      "       [1, 4, 6, 4, 1]        \n"
     ]
    }
   ],
   "source": [
    "def pascalTriangle(rows):\n",
    "    output = []\n",
    "    columns = 0\n",
    "    for n in range(rows):  # O(n)\n",
    "        columns += 1\n",
    "        output += [[binom(n,k) for k in range(0,columns)]] # n from before * n for loop * n binom(n,k) -> n^3\n",
    "    for line in output:\n",
    "        print(f'{line}'.center(rows*6))\n",
    "\n",
    "pascalTriangle(5)\n",
    "\n",
    "\n",
    "# Run time: O(n^3)\n",
    "# Space time: O(n^2) 2d table so n^2 (rows are n, columns are also n)"
   ]
  },
  {
   "cell_type": "code",
   "execution_count": null,
   "metadata": {},
   "outputs": [
    {
     "name": "stdout",
     "output_type": "stream",
     "text": [
      "             [1]              \n",
      "            [1, 1]            \n",
      "          [1, 2, 1]           \n",
      "         [1, 3, 3, 1]         \n",
      "       [1, 4, 6, 4, 1]        \n"
     ]
    }
   ],
   "source": [
    "# NOW REDUCE O(n^3) TO BE O(n^2) OR BETTER\n",
    "\n",
    "def pascalTriangle(rows):\n",
    "    output = []\n",
    "    for y in range(rows):   # O(n)\n",
    "        output += [[]]\n",
    "        for x in range(0,y+1): # O(n^2)\n",
    "            if x == 0 or x == y:\n",
    "                output[y] += [1]\n",
    "            else:\n",
    "                output[y] += [output[y-1][x-1]+ output[y-1][x]]\n",
    "    for line in output: # (O)n\n",
    "        print(f'{line}'.center(rows*6)) # Final: n^2 + n -> O(n^2)\n",
    "\n",
    "pascalTriangle(5)\n",
    "\n",
    "# Time: O(n^2)\n",
    "# Space: O(n^2) <- lists of {1 to n} nested in list of {n}, so n^2\n",
    "\n",
    "# for comp: at n = 1000, this took 3.3s, other one took 52.9s"
   ]
  }
 ],
 "metadata": {
  "kernelspec": {
   "display_name": "Python 3",
   "language": "python",
   "name": "python3"
  },
  "language_info": {
   "codemirror_mode": {
    "name": "ipython",
    "version": 3
   },
   "file_extension": ".py",
   "mimetype": "text/x-python",
   "name": "python",
   "nbconvert_exporter": "python",
   "pygments_lexer": "ipython3",
   "version": "3.12.9"
  }
 },
 "nbformat": 4,
 "nbformat_minor": 2
}
