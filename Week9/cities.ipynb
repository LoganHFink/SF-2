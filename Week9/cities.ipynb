{
 "cells": [
  {
   "cell_type": "markdown",
   "metadata": {},
   "source": [
    "Consider cities and states in the US. Each state is given as a two letter abbreviation. You are tasked to read n cities and states from the user and determine the number of special pairs.\n",
    "\n",
    "A special pair is a pair where the first two characters of each city gives the abbreviation for the other city's state. They must also be in different states. \n",
    "\n",
    "Ex: SCRANTON PA and PARABOLA SC\n",
    "\n",
    "Determine the number of special pairs in the provided input.\n",
    "\n",
    "INPUT SPECIFICATION:\n",
    "\n",
    "--> first line contains the integer n (n can be as large as 200000), number of cities and states\n",
    "\n",
    "--> the next n lines are the n cities with corresponding states. Each line gives the name of a city, a space, state's 2 letter abrv. Note that the same city may exist in more than one state, but never multiple times in the same state.\n",
    "\n",
    "OUTPUT:\n",
    "\n",
    "--> output the # of states\n",
    "\n",
    "SAMPLE INPUT:\n",
    "\n",
    "12\n",
    "SCRANTON PA\n",
    "MANITEE MI\n",
    "NASHUA NH\n",
    "PARKER SC\n",
    "LAFAYETTE CO\n",
    "WASHOUGAL WA\n",
    "MIDDLEBOROUGH MA\n",
    "MADISON MI\n",
    "MILFORD MA\n",
    "MIDDLETON MA\n",
    "COVINGTON LA\n",
    "LAKEWOOD CO\n",
    "\n",
    "SAMPLE OUTPUT:\n",
    "\n",
    "9\n",
    "\n",
    "Read 5 different sample inputs from the user and write them to a file s.t. there is an empty line between any 2 sample inputs. Then from this file, read each sample input and determine the number of special pairs of cities"
   ]
  },
  {
   "cell_type": "code",
   "execution_count": null,
   "metadata": {},
   "outputs": [],
   "source": [
    "def add_cities():\n",
    "\n",
    "    output_file = open('cities_data.txt','a')\n",
    "\n",
    "    n = int(input('n: '))\n",
    "    for i in range(n):\n",
    "        pair = input('city,state: ').upper()\n",
    "        output_file.write(pair + '\\n')\n",
    "        output_file.write('\\n')\n",
    "    output_file.close()\n",
    "\n",
    "output_file = open('cities_data.txt','w').close()\n",
    "\n",
    "for _ in range(5):\n",
    "    add_cities()"
   ]
  },
  {
   "cell_type": "code",
   "execution_count": 55,
   "metadata": {},
   "outputs": [
    {
     "name": "stdout",
     "output_type": "stream",
     "text": [
      "dict_items([('SC', ['PA']), ('MA', ['MI'])])\n",
      "0\n",
      "dict_items([('NA', ['NH']), ('PA', ['SC']), ('LA', ['CO'])])\n",
      "0\n",
      "dict_items([('WA', ['WA'])])\n",
      "0\n",
      "dict_items([('MA', ['MI', 'MI', 'MI']), ('MI', ['MA', 'MA'])])\n",
      "3\n",
      "dict_items([('CO', ['LA']), ('LA', ['CO'])])\n",
      "1\n"
     ]
    }
   ],
   "source": [
    "input_file = open('cities_data.txt','r')\n",
    "\n",
    "all_dicts = []\n",
    "d = {}\n",
    "\n",
    "for line in input_file:\n",
    "    if line != '\\n':\n",
    "        city,state = line.rstrip().split(' ')\n",
    "        if city[0:2] not in d.keys():\n",
    "            d[city[0:2]] = [state[0:2]]\n",
    "        else:\n",
    "            d[city[0:2]] += [state[0:2]]\n",
    "    else:\n",
    "        all_dicts.append(d)\n",
    "        d = {}\n",
    "all_dicts.append(d)\n",
    "\n",
    "input_file.close()\n",
    "\n",
    "# Now calculate outputs\n",
    "\n",
    "for d in all_dicts:\n",
    "    print(d.items())\n",
    "    count = 0\n",
    "    for city,states in d.items():\n",
    "        for state in states:\n",
    "            # print(state,list(d.keys()))\n",
    "            if state in d.keys():\n",
    "                # print(d[state])\n",
    "                \n",
    "                if city in d[state] and city != state:    \n",
    "                    count +=1\n",
    "    count = (count + 1) // 2 \n",
    "    print(count)"
   ]
  }
 ],
 "metadata": {
  "kernelspec": {
   "display_name": "Python 3",
   "language": "python",
   "name": "python3"
  },
  "language_info": {
   "codemirror_mode": {
    "name": "ipython",
    "version": 3
   },
   "file_extension": ".py",
   "mimetype": "text/x-python",
   "name": "python",
   "nbconvert_exporter": "python",
   "pygments_lexer": "ipython3",
   "version": "3.12.9"
  }
 },
 "nbformat": 4,
 "nbformat_minor": 2
}
