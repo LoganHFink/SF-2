{
 "cells": [
  {
   "cell_type": "markdown",
   "metadata": {},
   "source": [
    "# Question 2\n",
    "(a) Open a file called grades.txt for writing that will hold student \n",
    "    grade information.  This information will be read from the user.  \n",
    "    Each input line given by the user is of the form: \n",
    "    firstname, lastname, exam1grade, exam2grade, exam3grade.  \n",
    "    Read grade information for 10 students and write that information \n",
    "    to your grades.txt file.  Make sure to close the file after \n",
    "    writing to it.  \n",
    "\n",
    "(b) Once your grades.txt file is populated, read and store the infomration\n",
    "    from the file.  Determine what data structure (e.g. lists, dictionaries, \n",
    "    sets, etc.) would best suit for storing the data in the file.  Once \n",
    "    your data is stored, compute the following: \n",
    "\n",
    "    (i) the minimum, maximum and average of exam1grade, exam2grade, exame3grade\n",
    "        for each student and print this information\n",
    "    \n",
    "    (ii) the minimum, maximum and average of exam1grade across all students.\n",
    "         Do this for exam2grade and exam3grade as well.  \n",
    "    \n",
    "    (iii) the average of the average of all 3 exams for all students.  "
   ]
  },
  {
   "cell_type": "code",
   "execution_count": 1,
   "metadata": {},
   "outputs": [
    {
     "data": {
      "text/plain": [
       "'\\njohn, lasseter, 97, 100, 80\\nbob, later, 37, 57, 70\\njoe, laser, 17, 130, 40\\njob, lae, 91, 100, 89\\nbobby, lass, 92, 101, 80\\njohnny, aster, 73, 100, 80\\njon, asser, 45, 40, 80\\njonnn, ler, 93, 100, 80\\nbohb, late, 37, 100, 85\\nbomb, ter, 97, 106, 80\\n\\n'"
      ]
     },
     "execution_count": 1,
     "metadata": {},
     "output_type": "execute_result"
    }
   ],
   "source": [
    "# output_file = open('grades.txt','w')\n",
    "\n",
    "# for i in range(10):\n",
    "#     output_file.write(input()+'\\n')\n",
    "# output_file.close()\n",
    "\n",
    "'''\n",
    "john, lasseter, 97, 100, 80\n",
    "bob, later, 37, 57, 70\n",
    "joe, laser, 17, 130, 40\n",
    "job, lae, 91, 100, 89\n",
    "bobby, lass, 92, 101, 80\n",
    "johnny, aster, 73, 100, 80\n",
    "jon, asser, 45, 40, 80\n",
    "jonnn, ler, 93, 100, 80\n",
    "bohb, late, 37, 100, 85\n",
    "bomb, ter, 97, 106, 80\n",
    "\n",
    "'''"
   ]
  },
  {
   "cell_type": "code",
   "execution_count": 2,
   "metadata": {},
   "outputs": [
    {
     "name": "stdout",
     "output_type": "stream",
     "text": [
      "{('john', 'lasseter'): [97, 100, 80], ('bob', 'later'): [37, 57, 70], ('joe', 'laser'): [17, 130, 40], ('job', 'lae'): [91, 100, 89], ('bobby', 'lass'): [92, 101, 80], ('johnny', 'aster'): [73, 100, 80], ('jon', 'asser'): [45, 40, 80], ('jonnn', 'ler'): [93, 100, 80], ('bohb', 'late'): [37, 100, 85], ('bomb', 'ter'): [97, 106, 80]}\n",
      "john lasseter's grades:\n",
      "min: 80\n",
      "max: 100\n",
      "avg: 92.3\n",
      "bob later's grades:\n",
      "min: 37\n",
      "max: 70\n",
      "avg: 54.7\n",
      "joe laser's grades:\n",
      "min: 17\n",
      "max: 130\n",
      "avg: 62.3\n",
      "job lae's grades:\n",
      "min: 89\n",
      "max: 100\n",
      "avg: 93.3\n",
      "bobby lass's grades:\n",
      "min: 80\n",
      "max: 101\n",
      "avg: 91.0\n",
      "johnny aster's grades:\n",
      "min: 73\n",
      "max: 100\n",
      "avg: 84.3\n",
      "jon asser's grades:\n",
      "min: 40\n",
      "max: 80\n",
      "avg: 55.0\n",
      "jonnn ler's grades:\n",
      "min: 80\n",
      "max: 100\n",
      "avg: 91.0\n",
      "bohb late's grades:\n",
      "min: 37\n",
      "max: 100\n",
      "avg: 74.0\n",
      "bomb ter's grades:\n",
      "min: 80\n",
      "max: 106\n",
      "avg: 94.3\n",
      "total min: 17\n",
      "total max: 130\n",
      "total average: 79.2\n"
     ]
    }
   ],
   "source": [
    "input_file = open('grades.txt','r')\n",
    "d = {}\n",
    "for line in input_file:\n",
    "    first_name,last_name,exam1,exam2,exam3 = line.rstrip().split(', ')\n",
    "    # print(first_name,last_name,exam1,exam2,exam3)\n",
    "    d[(first_name,last_name)] = [int(exam1),int(exam2),int(exam3)]\n",
    "# print(d)\n",
    "\n",
    "input_file.close()\n",
    "\n",
    "print(d)\n",
    "\n",
    "min_grades = []\n",
    "max_grades = []\n",
    "all_avgs = []\n",
    "\n",
    "for student in d.keys():\n",
    "    grades = d[student]\n",
    "\n",
    "    mingrade = min(grades)\n",
    "    maxgrade = max(grades)\n",
    "    avggrade = round(sum(d[student])/len(d[student]),1)\n",
    "\n",
    "    min_grades += [mingrade]\n",
    "    max_grades += [maxgrade]\n",
    "    all_avgs += [avggrade]\n",
    "\n",
    "    print(f'{student[0]} {student[1]}\\'s grades:')\n",
    "    print(f'min: {mingrade}')\n",
    "    print(f'max: {maxgrade}')\n",
    "    print(f'avg: {avggrade}')\n",
    "\n",
    "print(f'total min: {min(min_grades)}')\n",
    "print(f'total max: {max(max_grades)}')\n",
    "print(f'total average: {round(sum(all_avgs)/len(all_avgs),1)}')\n",
    "\n",
    "# this crashes sometimes in the ipynb notebook for no reason"
   ]
  },
  {
   "cell_type": "code",
   "execution_count": 3,
   "metadata": {},
   "outputs": [
    {
     "ename": "NameError",
     "evalue": "name 'count' is not defined",
     "output_type": "error",
     "traceback": [
      "\u001b[1;31m---------------------------------------------------------------------------\u001b[0m",
      "\u001b[1;31mNameError\u001b[0m                                 Traceback (most recent call last)",
      "Cell \u001b[1;32mIn[3], line 31\u001b[0m\n\u001b[0;32m     29\u001b[0m words \u001b[38;5;241m=\u001b[39m line\u001b[38;5;241m.\u001b[39msplit(\u001b[38;5;124m'\u001b[39m\u001b[38;5;124m \u001b[39m\u001b[38;5;124m'\u001b[39m)\n\u001b[0;32m     30\u001b[0m \u001b[38;5;28;01mfor\u001b[39;00m word \u001b[38;5;129;01min\u001b[39;00m words:\n\u001b[1;32m---> 31\u001b[0m     \u001b[43mcount\u001b[49m \u001b[38;5;241m+\u001b[39m\u001b[38;5;241m=\u001b[39m \u001b[38;5;28mlen\u001b[39m(word)\n\u001b[0;32m     32\u001b[0m     \u001b[38;5;28;01mif\u001b[39;00m count \u001b[38;5;241m<\u001b[39m\u001b[38;5;241m=\u001b[39m \u001b[38;5;28mint\u001b[39m(k):\n\u001b[0;32m     33\u001b[0m         output_file2\u001b[38;5;241m.\u001b[39mwrite(word \u001b[38;5;241m+\u001b[39m \u001b[38;5;124m'\u001b[39m\u001b[38;5;124m \u001b[39m\u001b[38;5;124m'\u001b[39m)\n",
      "\u001b[1;31mNameError\u001b[0m: name 'count' is not defined"
     ]
    }
   ],
   "source": [
    "output_file = open('words_updated.txt','w')\n",
    "input_file = open('words.txt','r')\n",
    "\n",
    "num_words = 0\n",
    "\n",
    "for line in input_file:\n",
    "    num_words += 1\n",
    "    word = line.rstrip()\n",
    "    output_file.write(word + ' ')\n",
    "\n",
    "input_file.close()\n",
    "output_file.close()\n",
    "\n",
    "# print(num_words)\n",
    "\n",
    "invalid = True\n",
    "while invalid:\n",
    "    k = input('k (0-80): ')\n",
    "    if k.isdigit():\n",
    "        if int(k) > 0 and int(k) <= 80:\n",
    "            invalid = False\n",
    "    else:\n",
    "        print('INVALID INPUT')\n",
    "\n",
    "output_file2 = open('result.txt','w')\n",
    "input_file2 = open('words_updated.txt','r')\n",
    "\n",
    "for line in input_file2:\n",
    "    words = line.split(' ')\n",
    "    for word in words:\n",
    "        count += len(word)\n",
    "        if count <= int(k):\n",
    "            output_file2.write(word + ' ')\n",
    "        else:\n",
    "            output_file2.write('\\n')\n",
    "            count = 0\n",
    "\n",
    "output_file2.close()\n",
    "input_file2.close()\n",
    "\n",
    "input_file3 = open('result.txt','r')\n",
    "for line in input_file3:\n",
    "    print(line)\n"
   ]
  }
 ],
 "metadata": {
  "kernelspec": {
   "display_name": "Python 3",
   "language": "python",
   "name": "python3"
  },
  "language_info": {
   "codemirror_mode": {
    "name": "ipython",
    "version": 3
   },
   "file_extension": ".py",
   "mimetype": "text/x-python",
   "name": "python",
   "nbconvert_exporter": "python",
   "pygments_lexer": "ipython3",
   "version": "3.12.9"
  }
 },
 "nbformat": 4,
 "nbformat_minor": 2
}
