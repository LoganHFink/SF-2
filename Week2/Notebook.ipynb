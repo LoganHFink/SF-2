{
 "cells": [
  {
   "cell_type": "markdown",
   "metadata": {},
   "source": [
    "# H1\n",
    "## H2\n",
    "### H3\n",
    "\n",
    "**text**\n",
    "__text__\n",
    "~~text~~\n",
    "\n",
    ">blockquote\n",
    "\n",
    "1. item one\n",
    "2. item two\n",
    "3. item three\n",
    "\n",
    "- item one\n",
    "- item two\n",
    "- item three\n",
    "\n",
    "`code`\n",
    "\n",
    "---"
   ]
  }
 ],
 "metadata": {
  "language_info": {
   "name": "python"
  }
 },
 "nbformat": 4,
 "nbformat_minor": 2
}
