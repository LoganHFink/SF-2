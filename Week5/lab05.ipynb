{
 "cells": [
  {
   "cell_type": "markdown",
   "metadata": {},
   "source": [
    "Given a list of lists, create a new copy of the list with the empty list removed from it by keeping the original list as is\n",
    "Ex: lst = [[1,2],[],[3,4],[],[5]]"
   ]
  },
  {
   "cell_type": "code",
   "execution_count": 10,
   "metadata": {},
   "outputs": [
    {
     "name": "stdout",
     "output_type": "stream",
     "text": [
      "lst: [[1, 2], [], [3, 4], [], [5]]\n",
      "result: [[1, 2], [3, 4], [5]]\n"
     ]
    }
   ],
   "source": [
    "lst = [[1,2],[],[3,4],[],[5]]\n",
    "result = []\n",
    "\n",
    "for inner_list in lst:\n",
    "    if inner_list:  # when empty gives False\n",
    "        result.append(inner_list)\n",
    "print(f'lst: {lst}')\n",
    "print(f'result: {result}')"
   ]
  },
  {
   "cell_type": "markdown",
   "metadata": {},
   "source": [
    "Repeat using list comprehension:"
   ]
  },
  {
   "cell_type": "code",
   "execution_count": 11,
   "metadata": {},
   "outputs": [
    {
     "name": "stdout",
     "output_type": "stream",
     "text": [
      "lst: [[1, 2], [], [3, 4], [], [5]]\n",
      "result: [[1, 2], [3, 4], [5]]\n"
     ]
    }
   ],
   "source": [
    "lst = [[1,2],[],[3,4],[],[5]]\n",
    "\n",
    "result = [item for item in lst if item]\n",
    "print(f'lst: {lst}')\n",
    "print(f'result: {result}')\n"
   ]
  },
  {
   "cell_type": "markdown",
   "metadata": {},
   "source": [
    "Repeat by modifying the original list of lists"
   ]
  },
  {
   "cell_type": "code",
   "execution_count": 12,
   "metadata": {},
   "outputs": [
    {
     "name": "stdout",
     "output_type": "stream",
     "text": [
      "lst: [[1, 2], [3, 4], [5]]\n"
     ]
    }
   ],
   "source": [
    "lst = [[1,2],[],[3,4],[],[5]]\n",
    "\n",
    "for inner_list in lst:\n",
    "    if not inner_list:\n",
    "        lst.remove(inner_list)\n",
    "    \n",
    "print(f'lst: {lst}')"
   ]
  },
  {
   "cell_type": "markdown",
   "metadata": {},
   "source": [
    "Use a list comprehension to return all squares of values in a list that is > 3 and < 11\n",
    "\n",
    "given 2 lists lst and num, check if every value of num appears in lst. If so, add 5 to it and return"
   ]
  },
  {
   "cell_type": "code",
   "execution_count": 13,
   "metadata": {},
   "outputs": [
    {
     "name": "stdout",
     "output_type": "stream",
     "text": [
      "lst: [1, 2, 3, 4, 5, 6, 7, 8, 9, 10, 11, 25, 324, 2]\n",
      "result: [16, 25, 36, 49, 64, 81, 100]\n"
     ]
    }
   ],
   "source": [
    "# 1.\n",
    "lst = [1,2,3,4,5,6,7,8,9,10,11,25,324,2]\n",
    "result = [num**2 for num in lst if 3 < num < 11]\n",
    "\n",
    "print(f'lst: {lst}')\n",
    "print(f'result: {result}')"
   ]
  },
  {
   "cell_type": "code",
   "execution_count": 14,
   "metadata": {},
   "outputs": [
    {
     "name": "stdout",
     "output_type": "stream",
     "text": [
      "result: [35, 39, 17, 38]\n"
     ]
    }
   ],
   "source": [
    "#2. \n",
    "lst = [30,34,36,37,52,77,33,12]\n",
    "num = [30,46,34,88,99,12,33]\n",
    "\n",
    "result = [x + 5 for x in num if x in lst]\n",
    "print(f'result: {result}')"
   ]
  },
  {
   "cell_type": "code",
   "execution_count": 15,
   "metadata": {},
   "outputs": [
    {
     "name": "stdout",
     "output_type": "stream",
     "text": [
      "result: [0, 0, 0, 0, 52, 77, 0, 0]\n"
     ]
    }
   ],
   "source": [
    "# Ex: of if/else\n",
    "\n",
    "result = [x if x > 40 else 0 for x in lst]\n",
    "print(f'result: {result}')"
   ]
  },
  {
   "cell_type": "markdown",
   "metadata": {},
   "source": [
    "Given a list of lists, where the inner list elements are strings, change the values from strings to integers and print the list"
   ]
  },
  {
   "cell_type": "code",
   "execution_count": 16,
   "metadata": {},
   "outputs": [
    {
     "name": "stdout",
     "output_type": "stream",
     "text": [
      "lst_2d: [['4', '8'], ['4', '2', '23'], ['1', '7'], ['3', '33', '12']]\n",
      "result: [[4, 8], [4, 2, 23], [1, 7], [3, 33, 12]]\n",
      "lst_2d: [['4', '8'], ['4', '2', '23'], ['1', '7'], ['3', '33', '12']]\n",
      "lst_2d: [[4, 8], [4, 2, 23], [1, 7], [3, 33, 12]]\n"
     ]
    }
   ],
   "source": [
    "lst_2d = [['4','8'],['4','2','23'],['1','7'],['3','33','12']]\n",
    "result = []\n",
    "\n",
    "for row in lst_2d:\n",
    "    row = [int(x) for x in row]\n",
    "    result.append(row)\n",
    "\n",
    "print(f'lst_2d: {lst_2d}')\n",
    "print(f'result: {result}')\n",
    "\n",
    "# Then try again with FULLY list comprehension:\n",
    " \n",
    "lst_2d = [['4','8'],['4','2','23'],['1','7'],['3','33','12']]\n",
    "\n",
    "print(f'lst_2d: {lst_2d}')\n",
    "\n",
    "lst_2d = [[int(x) for x in row] for row in lst_2d]  # this one changes the lst_2d directly\n",
    "\n",
    "print(f'lst_2d: {lst_2d}')"
   ]
  },
  {
   "cell_type": "markdown",
   "metadata": {},
   "source": [
    "# Sort a list of lists \n",
    "- given a list of lists (assume int), sort each sublist in decreasing order\n",
    "- cannot use any built in functions\n",
    "- must define a sort function that allows for sorting both increasing OR decreasing function\n",
    "- what is the time and space complexity?"
   ]
  },
  {
   "cell_type": "code",
   "execution_count": 17,
   "metadata": {},
   "outputs": [
    {
     "name": "stdout",
     "output_type": "stream",
     "text": [
      "[[4, 8], [2, 4, 23], [1, 7], [3, 12, 33]]\n"
     ]
    }
   ],
   "source": [
    "def myMin(lst):\n",
    "    smallest = lst[0]\n",
    "    for x in lst:\n",
    "        if x < smallest:\n",
    "            smallest = x\n",
    "    return smallest\n",
    "\n",
    "def mySort(lst,mode):\n",
    "    newlst = []\n",
    "    for i in range(len(lst)):\n",
    "        new = myMin(lst)\n",
    "        newlst += [new]\n",
    "        lst = [item for item in lst if item != new]\n",
    "    if mode == 'inc':\n",
    "        return newlst\n",
    "    else:\n",
    "        return newlst[::-1]\n",
    "\n",
    "# 2d sorting:\n",
    "\n",
    "lst_2d = [[4,8],[4,2,23],[1,7],[3,33,12]]\n",
    "\n",
    "newlst = []\n",
    "for sublst in lst_2d:\n",
    "    newlst += [mySort(sublst,'inc')]\n",
    "lst_2d = newlst\n",
    "\n",
    "print(lst_2d)"
   ]
  },
  {
   "cell_type": "code",
   "execution_count": null,
   "metadata": {},
   "outputs": [
    {
     "name": "stdout",
     "output_type": "stream",
     "text": [
      "[[8, 4], [23, 4, 2], [7, 1], [33, 12, 3]]\n"
     ]
    }
   ],
   "source": [
    "# OR InsertionSort:\n",
    "\n",
    "lst_2d = [[4,8],[4,2,23],[1,7],[3,33,12]]\n",
    "\n",
    "def insertionSort(lst,mode):\n",
    "    n = len(lst)\n",
    "\n",
    "    if n <= 1:\n",
    "        return lst\n",
    "    \n",
    "    for i in range(1,n):\n",
    "        elem = lst[i]\n",
    "        j = i - 1\n",
    "        while j >= 0 and elem < lst[j]:\n",
    "            lst[j+1] = lst[j]\n",
    "            j -= 1 \n",
    "        lst[j+1] = elem\n",
    "\n",
    "    if not mode:  # for decreasing order mode = False\n",
    "        lst = lst[::-1]\n",
    "\n",
    "    return lst\n",
    "\n",
    "lst_2d = [insertionSort(lst,True) for lst in lst_2d]\n",
    "\n",
    "print(lst_2d)"
   ]
  },
  {
   "cell_type": "markdown",
   "metadata": {},
   "source": [
    "# List Example: transpose a matrix\n",
    "- given an n by m matrix, write code to transpose it (rotate diagonally)\n",
    "- cannot use any built-in functions\n",
    "- assume given sublists are all of same size\n",
    "- LIST COMPREHENSION!!!!"
   ]
  },
  {
   "cell_type": "code",
   "execution_count": 18,
   "metadata": {},
   "outputs": [
    {
     "name": "stdout",
     "output_type": "stream",
     "text": [
      "Original Matrix:\n",
      "[['a1'], ['b1']]\n",
      "[['a2'], ['b2']]\n",
      "[['a3'], ['b3']]\n",
      "Transposed Matrix:\n",
      "[['a1'], ['a2'], ['a3']]\n",
      "[['b1'], ['b2'], ['b3']]\n"
     ]
    }
   ],
   "source": [
    "def showMatrix(matrix):\n",
    "    for row in matrix:\n",
    "        print(row)\n",
    "\n",
    "matrix = [[['a1'],['b1']],[['a2'],['b2']],[['a3'],['b3']]]\n",
    "\n",
    "print('Original Matrix:')\n",
    "showMatrix(matrix)\n",
    "\n",
    "new_matrix = [[matrix[yi][xi] for yi in range(len(matrix))] for xi in range(len(matrix[0]))]\n",
    "\n",
    "print('Transposed Matrix:')\n",
    "showMatrix(new_matrix)"
   ]
  }
 ],
 "metadata": {
  "kernelspec": {
   "display_name": "Python 3",
   "language": "python",
   "name": "python3"
  },
  "language_info": {
   "codemirror_mode": {
    "name": "ipython",
    "version": 3
   },
   "file_extension": ".py",
   "mimetype": "text/x-python",
   "name": "python",
   "nbconvert_exporter": "python",
   "pygments_lexer": "ipython3",
   "version": "3.12.9"
  }
 },
 "nbformat": 4,
 "nbformat_minor": 2
}
